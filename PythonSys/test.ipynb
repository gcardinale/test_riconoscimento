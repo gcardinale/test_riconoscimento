{
 "cells": [
  {
   "cell_type": "code",
   "execution_count": 4,
   "metadata": {},
   "outputs": [],
   "source": [
    "from faster_whisper import WhisperModel\n",
    "\n",
    "model_size = \"large-v2\"\n",
    "\n",
    "# Run on GPU with FP16\n",
    "model = WhisperModel(\"/home/ubuntu/workspace/whisper_translate_app/wevoz_model\", device=\"cuda\", compute_type=\"float16\")"
   ]
  },
  {
   "cell_type": "code",
   "execution_count": 5,
   "metadata": {},
   "outputs": [
    {
     "name": "stdout",
     "output_type": "stream",
     "text": [
      "Detected language 'en' with probability 0.999512\n"
     ]
    }
   ],
   "source": [
    "# or run on GPU with INT8\n",
    "# model = WhisperModel(model_size, device=\"cuda\", compute_type=\"int8_float16\")\n",
    "# or run on CPU with INT8\n",
    "# model = WhisperModel(model_size, device=\"cpu\", compute_type=\"int8\")\n",
    "\n",
    "segments, info = model.transcribe(\"/home/ubuntu/workspace/whisper_app/retool.mp3\", beam_size=5, vad_filter=True)\n",
    "\n",
    "print(\"Detected language '%s' with probability %f\" % (info.language, info.language_probability))\n",
    "\n",
    "text = \"\"\n",
    "for segment in segments:\n",
    "    text = text + segment.text \n",
    "    \n"
   ]
  },
  {
   "cell_type": "code",
   "execution_count": 6,
   "metadata": {},
   "outputs": [
    {
     "data": {
      "text/plain": [
       "\" Retool is a fast way to build internal tools. Suppose we're Amazon and we want a tool to be able to see our customers orders and mark different orders as gifts. Let's build this together in about five minutes. Take one. So to start off, we probably wanna get a list of all our users. Let's write the query to select all from users. Let's see if that works. That looks pretty good. So let's save it and drag on a table component to show this list. Hopefully it's already been prefilled with the data from our query. Now we probably wanna be able to search for this table. So let's drag on a text input to act as our search box. Maybe we wanna search by first name so that when we enter say Ben, then only Ben shows up. So let's modify our query to select all from users where first name equals. And we want it to equal the value of our text input, which is called text input one. So we just write text input one dot value. And it looks like that worked. And maybe we don't wanna have to search for exact first names. So we can change this to use the I like operator and we can add a couple of cheeky wildcards. And this will just make our tool a bit nicer to use. So now hopefully once we start typing, our users should start filtering. Great. And now just so that we know what we're looking at, let's drag on a text component. That'll be our title. Anything in here is actually just mark down our HTML so we can easily turn that into a title. Awesome. So next we probably wanna be able to select a user and then see all of their orders. So let's drag on a new text component to tell us whose orders we're looking at. Now in the same way that the text input had a value property, the table actually has a selected row property. So if we do table one dot selected row dot data dot first name, then we should get Ben. Looks like that worked. And these are Ben's orders. And once again, let's just turn this into a heading. Great. Now let's write the query that actually selects Ben's orders. So this time we'll be selecting all from orders where user ID equals. Once again, it's table one dot selected row dot data dot ID. And save that. Maybe we wanna order by when the order was placed. And let's drag on a table component to show the orders. Once again, helpfully, it's been prefilled and we can just select a different user and see their orders too. Now you can see that there's a gift column in this table. So maybe we want our tool to be able to mark different orders as gifts. So we actually have an API endpoint set up so that when you make a put request to the orders endpoint and you pass it the order ID. So this will be this time table two dot selected row dot data dot ID. And when you set gifts to true in the body, then it should mark an order as a gift. And after we run this query, we wanna refresh the data in our table so that it shows the latest information. So on success, we wanna trigger query two. And save that. And to actually run this query, we probably want a button. So let's drag on a button. This button will mark an order as a gift. And on click, we wanna run query three. Let's see if that works. Awesome. And finally, maybe we wanna be able to export this data to do some analysis. So let's drag on another button here, which will export to CSV. Maybe we want this button to be gray. And on click, instead of running a query, we actually wanna export data. And the data to export is the data in the orders table, which is actually the same as the data in query two. So we can actually do query two dot data. The file name is maybe just user orders. And we're happy with CSV. So let's see if that works. Great. You can see that CSV has actually been downloaded. Finally, we can enter end user mode to see our tool in action. So we can search for users. Maybe Louie. We can see Louie's orders. We can mark different orders as gifts and we can export data just as we set up. And this is the page that members of our operations team, for example, can easily access and easily do their job with. Finally, we can head back to the Retool homepage. From here, you can manage all of your Retool apps. It has all the features you'd expect, including authentication, authorization, and audit logs. Thanks for watching.\""
      ]
     },
     "execution_count": 6,
     "metadata": {},
     "output_type": "execute_result"
    }
   ],
   "source": [
    "text"
   ]
  },
  {
   "cell_type": "code",
   "execution_count": null,
   "metadata": {},
   "outputs": [],
   "source": []
  }
 ],
 "metadata": {
  "kernelspec": {
   "display_name": "ctranslate",
   "language": "python",
   "name": "python3"
  },
  "language_info": {
   "codemirror_mode": {
    "name": "ipython",
    "version": 3
   },
   "file_extension": ".py",
   "mimetype": "text/x-python",
   "name": "python",
   "nbconvert_exporter": "python",
   "pygments_lexer": "ipython3",
   "version": "3.10.11"
  },
  "orig_nbformat": 4
 },
 "nbformat": 4,
 "nbformat_minor": 2
}
